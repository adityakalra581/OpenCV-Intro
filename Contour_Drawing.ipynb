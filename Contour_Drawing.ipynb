{
 "cells": [
  {
   "cell_type": "markdown",
   "metadata": {},
   "source": [
    "### Finding and Drawing Contours.\n",
    "\n",
    "-SOURCE: https://youtu.be/_aTC-Rc4Io0"
   ]
  },
  {
   "cell_type": "code",
   "execution_count": 2,
   "metadata": {},
   "outputs": [],
   "source": [
    "import cv2\n",
    "import numpy as np\n",
    "\n",
    "vidobj=cv2.VideoCapture(0)\n",
    "\n",
    "while True:\n",
    "    _,frame=vidobj.read()\n",
    "    # Returns two output.\n",
    "    blurred_frame=cv2.GaussianBlur(frame,(5,5),0)\n",
    "    #To remove the noise from the frames.\n",
    "    hsv = cv2.cvtColor(frame, cv2.COLOR_BGR2HSV)\n",
    "    hsv1 = cv2.cvtColor(blurred_frame, cv2.COLOR_BGR2HSV)\n",
    "    \n",
    "    lower_white=np.array([38,86,0])\n",
    "    upper_white=np.array([121,255,255])\n",
    "    \n",
    "    mask=cv2.inRange(hsv,lower_white,upper_white)\n",
    "    mask1=cv2.inRange(hsv1,lower_white,upper_white)\n",
    "    \n",
    "    # Lets draw contours:\n",
    "    _,contours,_=cv2.findContours(mask,cv2.RETR_TREE,cv2.CHAIN_APPROX_NONE)\n",
    "    cv2.drawContours(blurred_frame,contours,-1,(0,255,0),3)\n",
    "    \n",
    "    \n",
    "    cv2.imshow(\"Frame\",frame)\n",
    "    cv2.imshow(\"mask\",mask)\n",
    "    cv2.imshow(\"New_Frame\",mask1)\n",
    "    k=cv2.waitKey(1) \n",
    "    if k==27:\n",
    "        break\n",
    "vidobj.release()\n",
    "cv2.destroyAllWindows()\n",
    "\n"
   ]
  },
  {
   "cell_type": "markdown",
   "metadata": {},
   "source": [
    "**Contours are not plotting**\n",
    "\n",
    "**Need to complete this**"
   ]
  },
  {
   "cell_type": "code",
   "execution_count": null,
   "metadata": {},
   "outputs": [],
   "source": []
  }
 ],
 "metadata": {
  "kernelspec": {
   "display_name": "Python 3",
   "language": "python",
   "name": "python3"
  },
  "language_info": {
   "codemirror_mode": {
    "name": "ipython",
    "version": 3
   },
   "file_extension": ".py",
   "mimetype": "text/x-python",
   "name": "python",
   "nbconvert_exporter": "python",
   "pygments_lexer": "ipython3",
   "version": "3.7.3"
  }
 },
 "nbformat": 4,
 "nbformat_minor": 2
}
