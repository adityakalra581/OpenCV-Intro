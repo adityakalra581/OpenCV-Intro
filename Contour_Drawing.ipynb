{
 "cells": [
  {
   "cell_type": "markdown",
   "metadata": {},
   "source": [
    "### Finding and Drawing Contours.\n",
    "\n",
    "-SOURCE: https://youtu.be/_aTC-Rc4Io0"
   ]
  },
  {
   "cell_type": "code",
   "execution_count": 2,
   "metadata": {},
   "outputs": [],
   "source": [
    "import cv2\n",
    "import numpy as np\n",
    "\n",
    "vidobj=cv2.VideoCapture(0)\n",
    "\n",
    "while True:\n",
    "    _,frame=vidobj.read()\n",
    "    # Returns two output.\n",
    "    blurred_frame=cv2.GaussianBlur(frame,(5,5),0)\n",
    "    #To remove the noise from the frames.\n",
    "    hsv = cv2.cvtColor(frame, cv2.COLOR_BGR2HSV)\n",
    "    hsv1 = cv2.cvtColor(blurred_frame, cv2.COLOR_BGR2HSV)\n",
    "    \n",
    "    lower_white=np.array([38,86,0])\n",
    "    upper_white=np.array([121,255,255])\n",
    "    \n",
    "    mask=cv2.inRange(hsv,lower_white,upper_white)\n",
    "    mask1=cv2.inRange(hsv1,lower_white,upper_white)\n",
    "    \n",
    "    # Lets draw contours:\n",
    "    _,contours,_=cv2.findContours(mask,cv2.RETR_TREE,cv2.CHAIN_APPROX_NONE)\n",
    "    cv2.drawContours(blurred_frame,contours,-1,(0,255,0),3)\n",
    "    \n",
    "    \n",
    "    cv2.imshow(\"Frame\",frame)\n",
    "    cv2.imshow(\"mask\",mask)\n",
    "    cv2.imshow(\"New_Frame\",mask1)\n",
    "    k=cv2.waitKey(1) \n",
    "    if k==27:\n",
    "        break\n",
    "vidobj.release()\n",
    "cv2.destroyAllWindows()\n",
    "\n"
   ]
  },
  {
   "cell_type": "markdown",
   "metadata": {},
   "source": [
    "**Contours are not plotting**\n",
    "\n",
    "**Need to complete this**"
   ]
  },
  {
   "cell_type": "markdown",
   "metadata": {},
   "source": [
    "#### Drawing on an image:\n",
    "\n",
    "- Effort to draw a rectangle on a image in order to make guidelines for the guy to put the delivery slip inside it.\n",
    "- Will draw both (Vertical & Horizontal dominating) rectangle, To cover all types of delivery slip. \n"
   ]
  },
  {
   "cell_type": "code",
   "execution_count": 36,
   "metadata": {},
   "outputs": [],
   "source": [
    "import cv2\n",
    "import numpy\n",
    "\n",
    "img=cv2.imread(\"frame114.jpg\",1)\n",
    "# (image,coordinates, width and height, color(BGR),width of line)\n",
    "cv2.rectangle(img, (100,0),(400,450),(255,255,255),2)  # Vertical dominating.\n",
    "cv2.rectangle(img, (0,100),(650,400),(255,255,255),2)   # Horizontal dominating.\n",
    "cv2.imshow(\"a\",img)\n",
    "cv2.waitKey(10000)\n",
    "cv2.destroyAllWindows()\n",
    "\n",
    "\n"
   ]
  },
  {
   "cell_type": "markdown",
   "metadata": {},
   "source": [
    "### Drawing on a real time video!"
   ]
  },
  {
   "cell_type": "code",
   "execution_count": 39,
   "metadata": {},
   "outputs": [],
   "source": [
    "import cv2\n",
    "import numpy\n",
    "vidobj=cv2.VideoCapture(0)\n",
    "\n",
    "\n",
    "while True:\n",
    "    _,frame= vidobj.read()\n",
    "    cv2.rectangle(frame, (100,0),(600,650),(255,255,255),2)  # Vertical dominating.\n",
    "    #cv2.rectangle(frame, (0,100),(650,400),(255,255,255),2)   # Horizontal dominating.\n",
    "    cv2.imshow(\"frame\",frame)\n",
    "    k=cv2.waitKey(1)\n",
    "    if k==27:\n",
    "        break\n",
    "vidobj.release()\n",
    "cv2.destroyAllWindows()"
   ]
  },
  {
   "cell_type": "markdown",
   "metadata": {},
   "source": [
    "### Hough Line Transform!!\n",
    "\n",
    "- Documentation:https://docs.opencv.org/2.4/doc/tutorials/imgproc/imgtrans/hough_lines/hough_lines.html\n",
    "- Implementation in python: https://www.youtube.com/watch?v=RFmsQeku4dE\n",
    "- Canny edge detection: https://docs.opencv.org/3.4/da/d22/tutorial_py_canny.html\n",
    "- Implement docs: https://www.geeksforgeeks.org/line-detection-python-opencv-houghline-method/"
   ]
  },
  {
   "cell_type": "code",
   "execution_count": 7,
   "metadata": {},
   "outputs": [
    {
     "data": {
      "text/plain": [
       "-1"
      ]
     },
     "execution_count": 7,
     "metadata": {},
     "output_type": "execute_result"
    }
   ],
   "source": [
    "import cv2\n",
    "import numpy as np\n",
    "\n",
    "img=cv2.imread(\"rec_enhanced.jpeg\")\n",
    "gray=cv2.cvtColor(img,cv2.COLOR_BGR2GRAY)\n",
    "edge=cv2.Canny(gray,100,200)\n",
    "\n",
    "#cv2.imshow(\"a\",img)\n",
    "#cv2.imshow(\"b\",gray)\n",
    "#cv2.imshow(\"c\",edge)\n",
    "#lines = cv2.HoughLines(edges,1,np.pi/180, 200)\n",
    "lines=cv2.HoughLines(edge,1,np.pi/180,200)\n",
    "for r,theta in lines[0]: \n",
    "      \n",
    "    # Stores the value of cos(theta) in a \n",
    "    a = np.cos(theta) \n",
    "  \n",
    "    # Stores the value of sin(theta) in b \n",
    "    b = np.sin(theta) \n",
    "      \n",
    "    # x0 stores the value rcos(theta) \n",
    "    x0 = a*r \n",
    "      \n",
    "    # y0 stores the value rsin(theta) \n",
    "    y0 = b*r \n",
    "      \n",
    "    # x1 stores the rounded off value of (rcos(theta)-1000sin(theta)) \n",
    "    x1 = int(x0 + 1000*(-b)) \n",
    "      \n",
    "    # y1 stores the rounded off value of (rsin(theta)+1000cos(theta)) \n",
    "    y1 = int(y0 + 1000*(a)) \n",
    "  \n",
    "    # x2 stores the rounded off value of (rcos(theta)+1000sin(theta)) \n",
    "    x2 = int(x0 - 1000*(-b)) \n",
    "      \n",
    "    # y2 stores the rounded off value of (rsin(theta)-1000cos(theta)) \n",
    "    y2 = int(y0 - 1000*(a)) \n",
    "      \n",
    "    # cv2.line draws a line in img from the point(x1,y1) to (x2,y2). \n",
    "    # (0,0,255) denotes the colour of the line to be  \n",
    "    #drawn. In this case, it is red.  \n",
    "    cv2.line(img,(x1,y1), (x2,y2), (0,255,0),5) \n",
    "      \n",
    "# All the changes made in the input image are finally \n",
    "# written on a new image houghlines.jpg \n",
    "\n",
    "#cv2.imshow('linesDetected.jpg', img) \n",
    "cv2.imwrite('linesDetected.jpg', img)\n",
    "\n",
    "cv2.waitKey()\n",
    "#cv2.destroyAllWindows()\n",
    "\n",
    "\n",
    "\n"
   ]
  },
  {
   "cell_type": "markdown",
   "metadata": {},
   "source": [
    "![](linesDetected.jpg)"
   ]
  },
  {
   "cell_type": "code",
   "execution_count": null,
   "metadata": {},
   "outputs": [],
   "source": []
  },
  {
   "cell_type": "markdown",
   "metadata": {},
   "source": [
    "- Not working Properly."
   ]
  },
  {
   "cell_type": "code",
   "execution_count": 6,
   "metadata": {},
   "outputs": [
    {
     "data": {
      "text/plain": [
       "-1"
      ]
     },
     "execution_count": 6,
     "metadata": {},
     "output_type": "execute_result"
    }
   ],
   "source": [
    "import cv2\n",
    "import numpy as np\n",
    "\n",
    "img=cv2.imread(\"test2.jpg\")\n",
    "gray=cv2.cvtColor(img,cv2.COLOR_BGR2GRAY)\n",
    "edge=cv2.Canny(gray,100,200)\n",
    "\n",
    "# cv2.imshow(\"a\",img)\n",
    "# cv2.imshow(\"b\",gray)\n",
    "# cv2.imshow(\"c\",edge)\n",
    "#lines = cv2.HoughLines(edges,1,np.pi/180, 200)\n",
    "lines=cv2.HoughLines(edge,1,np.pi/180,200)\n",
    "for r,theta in lines[0]: \n",
    "      \n",
    "    # Stores the value of cos(theta) in a \n",
    "    a = np.cos(theta) \n",
    "  \n",
    "    # Stores the value of sin(theta) in b \n",
    "    b = np.sin(theta) \n",
    "      \n",
    "    # x0 stores the value rcos(theta) \n",
    "    x0 = a*r \n",
    "      \n",
    "    # y0 stores the value rsin(theta) \n",
    "    y0 = b*r \n",
    "      \n",
    "    # x1 stores the rounded off value of (rcos(theta)-1000sin(theta)) \n",
    "    x1 = int(x0 + 1000*(-b)) \n",
    "      \n",
    "    # y1 stores the rounded off value of (rsin(theta)+1000cos(theta)) \n",
    "    y1 = int(y0 + 1000*(a)) \n",
    "  \n",
    "    # x2 stores the rounded off value of (rcos(theta)+1000sin(theta)) \n",
    "    x2 = int(x0 - 1000*(-b)) \n",
    "      \n",
    "    # y2 stores the rounded off value of (rsin(theta)-1000cos(theta)) \n",
    "    y2 = int(y0 - 1000*(a)) \n",
    "      \n",
    "    # cv2.line draws a line in img from the point(x1,y1) to (x2,y2). \n",
    "    # (0,0,255) denotes the colour of the line to be  \n",
    "    #drawn. In this case, it is red.  \n",
    "    cv2.line(img,(x1,y1), (x2,y2), (0,255,0),5) \n",
    "      \n",
    "# All the changes made in the input image are finally \n",
    "# written on a new image houghlines.jpg \n",
    "\n",
    "#cv2.imshow('linesDetected.jpg', img) \n",
    "cv2.imwrite('linesDetect.jpg', img)\n",
    "\n",
    "cv2.waitKey()\n",
    "#cv2.destroyAllWindows()\n",
    "\n",
    "\n",
    "\n"
   ]
  },
  {
   "cell_type": "markdown",
   "metadata": {},
   "source": [
    "- Detecting only a single line on a pretty simple picture.\n",
    "- Need to rectify this issue."
   ]
  },
  {
   "cell_type": "markdown",
   "metadata": {},
   "source": [
    "![](linesDetect.jpg)"
   ]
  },
  {
   "cell_type": "code",
   "execution_count": null,
   "metadata": {},
   "outputs": [],
   "source": []
  },
  {
   "cell_type": "code",
   "execution_count": null,
   "metadata": {},
   "outputs": [],
   "source": []
  },
  {
   "cell_type": "markdown",
   "metadata": {},
   "source": [
    "### Let's try it on video stream!"
   ]
  },
  {
   "cell_type": "code",
   "execution_count": 2,
   "metadata": {},
   "outputs": [],
   "source": [
    "import cv2\n",
    "import numpy as np\n",
    "\n",
    "#img=cv2.imread(\"rec_enhanced.jpeg\")\n",
    "vidobj=cv2.VideoCapture(0)\n",
    "if vidobj.isOpened():\n",
    "    ret,frame=vidobj.read()\n",
    "else:\n",
    "    ret=False\n",
    "\n",
    "while ret:\n",
    "    ret,frame=vidobj.read()\n",
    "    \n",
    "    gray=cv2.cvtColor(frame,cv2.COLOR_BGR2GRAY)\n",
    "    edge=cv2.Canny(gray,100,200)\n",
    "\n",
    "    lines=cv2.HoughLines(edge,1,np.pi/180,200)\n",
    "    if lines is not None:\n",
    "        for r,theta in lines[0]: # this will help detect lines.\n",
    "            a = np.cos(theta)  \n",
    "            b = np.sin(theta)  \n",
    "            x0 = a*r  \n",
    "            y0 = b*r  \n",
    "            x1 = int(x0 + 1000*(-b)) \n",
    "            y1 = int(y0 + 1000*(a)) \n",
    "            x2 = int(x0 - 1000*(-b)) \n",
    "            y2 = int(y0 - 1000*(a))  \n",
    "            cv2.line(frame,(x1,y1), (x2,y2), (0,255,0),5) \n",
    "    cv2.imshow('linesDetected.jpg', frame)\n",
    "    k=cv2.waitKey(1)\n",
    "    if k==27:\n",
    "        break\n",
    "\n",
    "cv2.waitKey()\n",
    "vidobj.release()\n",
    "cv2.destroyAllWindows()\n",
    "\n",
    "\n",
    "\n"
   ]
  },
  {
   "cell_type": "markdown",
   "metadata": {},
   "source": [
    "- Works Fine on webcam, but there is a scope of improvement. "
   ]
  },
  {
   "cell_type": "code",
   "execution_count": null,
   "metadata": {},
   "outputs": [],
   "source": []
  }
 ],
 "metadata": {
  "kernelspec": {
   "display_name": "Python 3",
   "language": "python",
   "name": "python3"
  },
  "language_info": {
   "codemirror_mode": {
    "name": "ipython",
    "version": 3
   },
   "file_extension": ".py",
   "mimetype": "text/x-python",
   "name": "python",
   "nbconvert_exporter": "python",
   "pygments_lexer": "ipython3",
   "version": "3.7.3"
  }
 },
 "nbformat": 4,
 "nbformat_minor": 2
}
