{
 "cells": [
  {
   "cell_type": "code",
   "execution_count": 1,
   "metadata": {},
   "outputs": [],
   "source": [
    "import cv2\n",
    "import numpy\n",
    "import imutils"
   ]
  },
  {
   "cell_type": "code",
   "execution_count": null,
   "metadata": {},
   "outputs": [],
   "source": [
    "## OPENCV has BGR\n",
    "## Matpltlib has RGB\n",
    "\n",
    "## Thus color distortion will be there\n",
    "# So analysis should be on grayscale."
   ]
  },
  {
   "cell_type": "code",
   "execution_count": 1,
   "metadata": {},
   "outputs": [
    {
     "name": "stdout",
     "output_type": "stream",
     "text": [
      "(180, 279)\n"
     ]
    }
   ],
   "source": [
    "import cv2\n",
    "img=cv2.imread ('box_original.jpeg',0)\n",
    "image=cv2.imread('download.jpg',0)\n",
    "# 1 is color\n",
    "# 0 is grayscale\n",
    "print(image.shape)"
   ]
  },
  {
   "cell_type": "code",
   "execution_count": 6,
   "metadata": {},
   "outputs": [
    {
     "name": "stdout",
     "output_type": "stream",
     "text": [
      "<class 'numpy.ndarray'>\n"
     ]
    }
   ],
   "source": [
    "print(type(img))"
   ]
  },
  {
   "cell_type": "code",
   "execution_count": 7,
   "metadata": {
    "scrolled": false
   },
   "outputs": [],
   "source": [
    "cv2.imshow(\"A\",img)\n",
    "cv2.waitKey(2000)\n",
    "cv2.destroyAllWindows()\n",
    "\n",
    "# This will show the image foe 2seconds in a different window."
   ]
  },
  {
   "cell_type": "code",
   "execution_count": 10,
   "metadata": {},
   "outputs": [
    {
     "data": {
      "text/plain": [
       "True"
      ]
     },
     "execution_count": 10,
     "metadata": {},
     "output_type": "execute_result"
    }
   ],
   "source": [
    "#FOR SAVING THE IMAGE:\n",
    "#cv2.imwrite('img.png',img)\n",
    "\n",
    "\n",
    "\n"
   ]
  },
  {
   "cell_type": "markdown",
   "metadata": {},
   "source": [
    "### VIDEO RECORDING AND ANALYSIS.\n",
    "- Controlling web cam\n",
    "- One in normal BGR colors\n",
    "- Second in Grayscale"
   ]
  },
  {
   "cell_type": "code",
   "execution_count": 1,
   "metadata": {},
   "outputs": [],
   "source": [
    "import cv2\n",
    "import numpy as np\n",
    "\n",
    "cap=cv2.VideoCapture(0) # 0 is for inbuilt camera\n",
    "#fourcc = cv2.VideoWritecv2.VideoWriterr_fourcc(*'XVID')\n",
    "#out = ('output.avi',fourcc,20.0,(640,480))\n",
    "while True:\n",
    "    ret,frame=cap.read()\n",
    "    gray=cv2.cvtColor(frame, cv2.COLOR_BGR2GRAY)\n",
    "    #out.write(frame)\n",
    "    cv2.imshow('frame',frame)\n",
    "    cv2.imshow('gray',gray)\n",
    "    if cv2.waitKey(1) & 0xFF == ord('q'):\n",
    "## Press q and the loop will get off.        \n",
    "        break\n",
    "cap.release()\n",
    "#out.release()\n",
    "cv2.destroyAllWindows()\n",
    "\n",
    "\n",
    "\n",
    "## TWO WINDOWS WILL OPEN SHOWING THE WEB-CAM. "
   ]
  },
  {
   "cell_type": "markdown",
   "metadata": {},
   "source": [
    "#### EFFORT FOR saving the video inside a folder.\n",
    "- Not working currently."
   ]
  },
  {
   "cell_type": "code",
   "execution_count": 9,
   "metadata": {},
   "outputs": [],
   "source": [
    "# import cv2\n",
    "# import numpy as np\n",
    "\n",
    "# cap=cv2.VideoCapture(0) # 0 is for inbuilt camera\n",
    "# fourcc = cv2.VideoWriter_fourcc(*'XVID')\n",
    "# out = cv2.VideoWriter('output.avi',fourcc,20.0,(640,480))\n",
    "# while True:\n",
    "#     ret,frame=cap.read()\n",
    "#     gray=cv2.cvtColor(frame, cv2.COLOR_BGR2GRAY)\n",
    "#     out.write(frame)\n",
    "#     cv2.imshow('frame',frame)\n",
    "#     cv2.imshow('gray',gray)\n",
    "#     if cv2.waitKey(1) & 0xFF == ord('q'):\n",
    "# ## Press q and the loop will get off.        \n",
    "#         break\n",
    "# cap.release()\n",
    "# out.release()\n",
    "# cv2.destroyAllWindows()"
   ]
  },
  {
   "cell_type": "markdown",
   "metadata": {},
   "source": [
    "### haar Cascade Object Detection:\n",
    "- Currently going for eye and face.\n",
    "- Files used are intel licensed so don't go for commercial use.\n",
    "- develop own haar cascade for commercial uses.\n",
    "- source: https://www.youtube.com/watch?v=88HdqNDQsEk&list=PLQVvvaa0QuDdttJXlLtAJxJetJcqmqlQq&index=16\n",
    "- github repo for downloading the cascades : https://github.com/opencv/opencv/tree/master/data/haarcascades"
   ]
  },
  {
   "cell_type": "code",
   "execution_count": null,
   "metadata": {},
   "outputs": [],
   "source": [
    "import cv2\n",
    "import numpy as np\n",
    "face_cascade=cv2.CascadeClassifier('haarcascade_frontalface_default.xml')\n",
    "eye_cascade=cv2.CascadeClassifier('haarcascade_eye.xml')\n",
    "cap=cv2.VideoCapture(0)\n",
    "# For capturing the video from webcam.\n",
    "\n",
    "while True:\n",
    "    ret,img=cap.read()\n",
    "    gray=cv2.cvtColor(img,cv2.COLOR_BGR2GRAY)\n",
    "    faces=face_cascade.detectMultiScale(gray,1.3,5)\n",
    "    for (x,y,w,h) in faces:\n",
    "        cv2.rectangle(img,(x,y),(x+w,y+h),(0,0,255),2)\n",
    "        roi_gray=gray[y:y+h,x:x+w]\n",
    "        roi_color=img[y:y+h,x:x+w]\n",
    "        eyes=eye_cascade.detectMultiScale(roi_gray)\n",
    "        for (ex,ey,ew,eh) in eyes:\n",
    "            cv2.rectangle(roi_color,(ex,ey),(ex+ew,ey+eh),(0,255,0),2)\n",
    "            \n",
    "        cv2.imshow('img',img)\n",
    "#         cv2.waitKey(30000)\n",
    "#         break                # Press esc and window will stop recording. \n",
    "#         if cv2.waitKey(1) & 0xFF == ord('q'):\n",
    "#             break   \n",
    "        k=cv2.waitKey(0) && 0xff\n",
    "        if k == 27:\n",
    "            break\n",
    "cap.release()\n",
    "cv2.destroyAllWindows()      \n",
    "\n",
    "# BGR = (0-255,0-255,0-255)\n",
    "# Some Colors and their codes:\n",
    "# 1. Black = 0,0,0\n",
    "# 2. white = 255,255,255\n",
    "# 3. blue = 255,0,0\n",
    "# 4. green = 0,255,0\n",
    "# 5. red = 0,0,255\n",
    "\n",
    "\n",
    "## ISSUES: \n",
    "# 1. the algorithm is not stopping even on pressing the key\n",
    "# 2. ESC or ord('q') method is not working.\n",
    "\n",
    "\n",
    "\n",
    "\n",
    "\n",
    "\n",
    "\n",
    "\n",
    "\n",
    "\n",
    "\n",
    "\n"
   ]
  },
  {
   "cell_type": "code",
   "execution_count": null,
   "metadata": {},
   "outputs": [],
   "source": []
  }
 ],
 "metadata": {
  "kernelspec": {
   "display_name": "Python 3",
   "language": "python",
   "name": "python3"
  },
  "language_info": {
   "codemirror_mode": {
    "name": "ipython",
    "version": 3
   },
   "file_extension": ".py",
   "mimetype": "text/x-python",
   "name": "python",
   "nbconvert_exporter": "python",
   "pygments_lexer": "ipython3",
   "version": "3.7.3"
  }
 },
 "nbformat": 4,
 "nbformat_minor": 2
}
